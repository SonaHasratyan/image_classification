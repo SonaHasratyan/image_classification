{
 "cells": [
  {
   "cell_type": "markdown",
   "id": "5c3d2fd2",
   "metadata": {},
   "source": [
    "# Numpy"
   ]
  },
  {
   "cell_type": "markdown",
   "id": "72cb1d62",
   "metadata": {},
   "source": [
    "why to use numpy?"
   ]
  },
  {
   "cell_type": "code",
   "execution_count": 60,
   "id": "d2038b86",
   "metadata": {},
   "outputs": [],
   "source": [
    "import numpy as np"
   ]
  },
  {
   "cell_type": "markdown",
   "id": "1044708f",
   "metadata": {},
   "source": [
    "np.array vs python lists - what differences do you know?"
   ]
  },
  {
   "cell_type": "code",
   "execution_count": 61,
   "id": "e587cf6d",
   "metadata": {},
   "outputs": [],
   "source": [
    "# 1-dimensonal array, or a vector\n",
    "a1 = np.array([1, 2, 3], dtype=np.float32)\n",
    "\n",
    "# 2-dimensional array, or a matrix\n",
    "a2 = np.array([[1, 2, 3],\n",
    "               [4, 5, 6]])\n",
    "\n",
    "# 3-dimensional array, or a matrix (sometimes, a tensor)\n",
    "a3 = np.array([[[1, 2, 3],\n",
    "                [4, 5, 6],\n",
    "                [7, 8, 9]],\n",
    "                [[10, 11, 12],\n",
    "                 [13, 14, 15],\n",
    "                 [16, 17, 18]]])"
   ]
  },
  {
   "cell_type": "code",
   "execution_count": 62,
   "id": "be265f8d",
   "metadata": {},
   "outputs": [
    {
     "data": {
      "text/plain": "array([1., 2., 3.], dtype=float32)"
     },
     "execution_count": 62,
     "metadata": {},
     "output_type": "execute_result"
    }
   ],
   "source": [
    "a1"
   ]
  },
  {
   "cell_type": "code",
   "execution_count": 63,
   "id": "6b5de9da",
   "metadata": {},
   "outputs": [
    {
     "data": {
      "text/plain": "((3,), 1, dtype('float32'), 3, numpy.ndarray)"
     },
     "execution_count": 63,
     "metadata": {},
     "output_type": "execute_result"
    }
   ],
   "source": [
    "a1.shape, a1.ndim, a1.dtype, a1.size, type(a1)"
   ]
  },
  {
   "cell_type": "markdown",
   "id": "406a018a",
   "metadata": {},
   "source": [
    "there are different ways to create a numpy array"
   ]
  },
  {
   "cell_type": "code",
   "execution_count": 64,
   "id": "ec091a50",
   "metadata": {},
   "outputs": [],
   "source": [
    "# np.array() - converting from a list\n",
    "# np.ones() ; np.zeros() - creating array of a given shape \n",
    "# np.random.rand(5, 3) ; np.random.randint() - generating random numbers"
   ]
  },
  {
   "cell_type": "code",
   "execution_count": 81,
   "outputs": [
    {
     "data": {
      "text/plain": "array([[[5.50351823e-01, 6.43404560e-01, 2.77163229e-01, 8.41227772e-01,\n         6.93434861e-01, 1.64766588e-01, 9.25042858e-01, 5.13978705e-01,\n         9.34508177e-01, 8.31617380e-01],\n        [3.90773382e-01, 3.70346830e-01, 4.34609433e-01, 9.55934959e-01,\n         3.47024398e-01, 8.88921583e-01, 9.15933224e-02, 9.03266020e-01,\n         6.38611708e-01, 1.20359274e-01],\n        [3.08781265e-01, 4.05372718e-01, 2.43742275e-01, 6.49981951e-01,\n         7.90482627e-01, 8.67881052e-01, 8.98390541e-01, 6.70492168e-01,\n         3.34983153e-01, 1.90958189e-02]],\n\n       [[3.52267124e-01, 3.81466917e-01, 7.74194061e-01, 7.01346507e-01,\n         7.74646900e-01, 7.53476143e-01, 2.40957712e-02, 3.60055769e-02,\n         5.29083426e-01, 3.89269192e-02],\n        [5.06690694e-01, 2.54878917e-01, 4.02176491e-01, 3.74405268e-01,\n         1.95209739e-01, 2.40605581e-01, 2.47366098e-01, 5.41548458e-01,\n         9.06578399e-01, 1.59674259e-01],\n        [5.34511471e-01, 6.14242401e-01, 1.66951078e-01, 4.48716568e-01,\n         7.67430105e-01, 3.04326588e-01, 2.54861931e-01, 9.75443648e-01,\n         3.11952746e-01, 9.62082451e-01]],\n\n       [[3.62611825e-01, 6.76899070e-01, 4.61017849e-01, 3.38856032e-01,\n         9.30886438e-01, 6.02052691e-01, 6.07385069e-01, 4.27617636e-01,\n         7.46014156e-01, 1.37832761e-01],\n        [8.86545661e-01, 6.18441797e-01, 4.42432671e-01, 9.79196813e-01,\n         2.40029245e-01, 6.52738831e-02, 5.74386529e-01, 3.46083461e-01,\n         8.77540503e-01, 1.27602123e-01],\n        [9.56287104e-01, 1.71557769e-01, 3.95321003e-01, 6.90480174e-01,\n         5.66313363e-01, 4.09565369e-03, 3.16629349e-01, 1.04958489e-01,\n         5.53283061e-01, 8.62358986e-02]],\n\n       [[8.21792429e-01, 7.19294826e-01, 5.30449556e-02, 9.21076155e-01,\n         6.73353433e-01, 9.47980330e-01, 6.03851497e-01, 8.24327867e-01,\n         6.37059659e-01, 3.59856243e-02],\n        [9.38960765e-01, 9.72234922e-01, 4.82123992e-02, 5.15142254e-01,\n         8.02638381e-01, 4.53384670e-02, 4.34894324e-01, 1.71260699e-01,\n         7.29495651e-01, 3.64867016e-01],\n        [1.32529514e-01, 4.82334824e-01, 1.21382099e-02, 6.26511582e-01,\n         9.56385313e-01, 7.56045346e-01, 1.17341329e-01, 7.74911300e-04,\n         5.42443978e-01, 6.06698116e-02]],\n\n       [[1.27892530e-01, 4.36105775e-01, 4.48051075e-02, 3.04729662e-01,\n         1.90754683e-01, 2.69581012e-01, 5.48348446e-01, 3.35962573e-01,\n         2.75841559e-01, 5.92924309e-01],\n        [2.15350500e-01, 9.76257324e-03, 9.79362202e-01, 5.95893643e-01,\n         9.60304490e-01, 7.44575672e-01, 2.11110747e-01, 9.85914939e-01,\n         9.50822991e-01, 8.71836429e-01],\n        [5.52222791e-01, 7.62744640e-01, 2.40871505e-01, 9.31316628e-01,\n         2.59461937e-01, 2.42284599e-01, 6.43559264e-01, 1.81581927e-01,\n         5.62766972e-01, 8.48482631e-01]]])"
     },
     "execution_count": 81,
     "metadata": {},
     "output_type": "execute_result"
    }
   ],
   "source": [
    "np.random.rand(5, 3, 10)"
   ],
   "metadata": {
    "collapsed": false
   },
   "id": "8282fe2cf65e6e4e"
  },
  {
   "cell_type": "code",
   "execution_count": 76,
   "id": "b5a05cb8",
   "metadata": {},
   "outputs": [
    {
     "data": {
      "text/plain": "array([1, 2, 3])"
     },
     "execution_count": 76,
     "metadata": {},
     "output_type": "execute_result"
    }
   ],
   "source": [
    "np.array([1,2,3])"
   ]
  },
  {
   "cell_type": "code",
   "execution_count": 77,
   "id": "1f6ed296",
   "metadata": {},
   "outputs": [
    {
     "data": {
      "text/plain": "array([[0., 0., 0.],\n       [0., 0., 0.]])"
     },
     "execution_count": 77,
     "metadata": {},
     "output_type": "execute_result"
    }
   ],
   "source": [
    "np.zeros((2,3))"
   ]
  },
  {
   "cell_type": "code",
   "execution_count": 78,
   "id": "6f232916",
   "metadata": {},
   "outputs": [
    {
     "data": {
      "text/plain": "array([0., 0., 0.], dtype=float32)"
     },
     "execution_count": 78,
     "metadata": {},
     "output_type": "execute_result"
    }
   ],
   "source": [
    "np.zeros_like(a1)"
   ]
  },
  {
   "cell_type": "code",
   "execution_count": 68,
   "id": "5de61647",
   "metadata": {
    "scrolled": true
   },
   "outputs": [
    {
     "data": {
      "text/plain": "array([[[3.04958414, 1.86449546, 5.14774925, 4.67646878, 6.19691169,\n         9.26747541, 4.1184299 , 3.31266279, 3.14194464, 3.5426441 ],\n        [2.36050322, 5.35603685, 3.32526603, 6.64269973, 0.12496685,\n         9.26575313, 3.94391651, 0.68272052, 1.44844691, 6.73587397],\n        [7.5565795 , 2.20430568, 2.88234974, 8.38992278, 1.56537312,\n         0.15753641, 6.05815105, 3.57017244, 2.87426069, 1.94261052]],\n\n       [[7.73257326, 6.62004581, 8.67686316, 5.04387532, 1.9823912 ,\n         8.3905315 , 8.61498183, 4.05691115, 4.46688548, 3.99084757],\n        [0.88991991, 6.5500147 , 1.03719713, 8.09329375, 6.76443162,\n         3.61856558, 0.34220036, 4.67924333, 1.43938173, 0.05222603],\n        [9.61657162, 1.35439529, 6.98120198, 6.47618457, 4.63889147,\n         1.3748056 , 9.70532366, 1.42913101, 0.12785103, 5.23327624]],\n\n       [[8.24430342, 2.54125455, 9.61800553, 0.03814955, 7.66651259,\n         0.45841585, 8.14193572, 2.86686699, 7.9108433 , 4.06799675],\n        [8.68421722, 3.02832929, 9.07227082, 7.31754499, 1.93092942,\n         4.39028181, 6.79974565, 9.07087537, 2.07703782, 0.58772359],\n        [6.86426363, 9.64737439, 0.0365203 , 5.91230798, 3.04592577,\n         1.23126311, 8.46741336, 4.86894555, 3.7834909 , 8.25424295]],\n\n       [[1.09428091, 5.93972518, 3.12895231, 2.19349173, 8.33590325,\n         2.39886209, 6.3337173 , 1.5635867 , 6.16202652, 8.20055525],\n        [6.17594153, 8.678984  , 7.89059389, 8.51395173, 1.49843471,\n         2.09349848, 8.4285801 , 0.76649492, 4.4591538 , 2.91112322],\n        [6.38680752, 5.0172261 , 3.2868146 , 9.8509688 , 5.35742771,\n         3.8075399 , 2.70137122, 8.66540815, 4.79934237, 3.14091662]],\n\n       [[4.42427124, 6.66186265, 7.20569199, 0.11719913, 8.27137905,\n         5.78072338, 3.11094961, 4.01626996, 8.58715313, 8.54154563],\n        [9.81916005, 2.85020997, 8.47041104, 3.74465076, 8.36486768,\n         8.00189539, 9.30403525, 2.72519798, 7.11323961, 9.61675848],\n        [3.41359332, 6.43935623, 5.58893213, 6.33197034, 2.84846638,\n         8.44742669, 8.04611027, 4.54730713, 7.21788759, 5.52337642]]])"
     },
     "execution_count": 68,
     "metadata": {},
     "output_type": "execute_result"
    }
   ],
   "source": [
    "np.random.rand(5,3,10)*10"
   ]
  },
  {
   "cell_type": "markdown",
   "id": "4a70056a",
   "metadata": {},
   "source": [
    "what is np.random.seed()  ?"
   ]
  },
  {
   "cell_type": "markdown",
   "id": "b76eb92b",
   "metadata": {},
   "source": [
    "slicing in numpy arrays"
   ]
  },
  {
   "cell_type": "markdown",
   "id": "ecd15fcf",
   "metadata": {},
   "source": [
    "Most mathematical functions are implemented both as methods of Numpy and as methods of Numpy object"
   ]
  },
  {
   "cell_type": "markdown",
   "id": "12bdea00",
   "metadata": {},
   "source": [
    "##### Broadcasting"
   ]
  },
  {
   "cell_type": "markdown",
   "id": "59d4c2b8",
   "metadata": {},
   "source": [
    "Broadcasting is a feature of NumPy which performs an operation across multiple dimensions of data without replicating the data"
   ]
  },
  {
   "cell_type": "code",
   "execution_count": 82,
   "id": "2687ed8f",
   "metadata": {},
   "outputs": [
    {
     "data": {
      "text/plain": "((3,), (2, 3), (2, 3, 3))"
     },
     "execution_count": 82,
     "metadata": {},
     "output_type": "execute_result"
    }
   ],
   "source": [
    "a1.shape, a2.shape, a3.shape"
   ]
  },
  {
   "cell_type": "markdown",
   "id": "50e8e1f6",
   "metadata": {},
   "source": [
    "##### Reshaping"
   ]
  },
  {
   "cell_type": "markdown",
   "id": "4e27662d",
   "metadata": {},
   "source": [
    "You can reshape your np.array to any possible shape (but be carefull to get what you really want)"
   ]
  },
  {
   "cell_type": "code",
   "execution_count": 84,
   "outputs": [
    {
     "data": {
      "text/plain": "(3, 1)"
     },
     "execution_count": 84,
     "metadata": {},
     "output_type": "execute_result"
    }
   ],
   "source": [
    "a1[:,np.newaxis].shape"
   ],
   "metadata": {
    "collapsed": false
   },
   "id": "f13e15026ee21de"
  },
  {
   "cell_type": "code",
   "execution_count": 85,
   "id": "4d559b86",
   "metadata": {},
   "outputs": [
    {
     "data": {
      "text/plain": "(2, 3)"
     },
     "execution_count": 85,
     "metadata": {},
     "output_type": "execute_result"
    }
   ],
   "source": [
    "a2.shape"
   ]
  },
  {
   "cell_type": "code",
   "execution_count": 71,
   "id": "0a093289",
   "metadata": {},
   "outputs": [
    {
     "data": {
      "text/plain": "array([[1, 2, 3],\n       [4, 5, 6]])"
     },
     "execution_count": 71,
     "metadata": {},
     "output_type": "execute_result"
    }
   ],
   "source": [
    "a2"
   ]
  },
  {
   "cell_type": "code",
   "execution_count": 72,
   "id": "a29b6f35",
   "metadata": {},
   "outputs": [
    {
     "data": {
      "text/plain": "array([[1, 2],\n       [3, 4],\n       [5, 6]])"
     },
     "execution_count": 72,
     "metadata": {},
     "output_type": "execute_result"
    }
   ],
   "source": [
    "a2.reshape((3,2))"
   ]
  },
  {
   "cell_type": "code",
   "execution_count": 73,
   "id": "2fec27e4",
   "metadata": {},
   "outputs": [],
   "source": [
    "# reshaping with -1"
   ]
  },
  {
   "cell_type": "markdown",
   "id": "66962c90",
   "metadata": {},
   "source": [
    "##### sorting"
   ]
  },
  {
   "cell_type": "markdown",
   "id": "b8a1eb28",
   "metadata": {},
   "source": [
    "np.sort() vs np.argsort()"
   ]
  },
  {
   "cell_type": "markdown",
   "id": "e6f6a6fe",
   "metadata": {},
   "source": [
    "##### Linear Algebra"
   ]
  },
  {
   "cell_type": "markdown",
   "id": "4503f8f6",
   "metadata": {},
   "source": [
    "all operations needed are much easier in numpy"
   ]
  },
  {
   "cell_type": "code",
   "execution_count": 88,
   "outputs": [
    {
     "data": {
      "text/plain": "array([[1, 4],\n       [2, 5],\n       [3, 6]])"
     },
     "execution_count": 88,
     "metadata": {},
     "output_type": "execute_result"
    }
   ],
   "source": [
    "a2.T"
   ],
   "metadata": {
    "collapsed": false
   },
   "id": "8caa30b88d6a4da3"
  },
  {
   "cell_type": "code",
   "execution_count": 89,
   "outputs": [
    {
     "data": {
      "text/plain": "array([[1, 2, 3],\n       [4, 5, 6]])"
     },
     "execution_count": 89,
     "metadata": {},
     "output_type": "execute_result"
    }
   ],
   "source": [
    "a2"
   ],
   "metadata": {
    "collapsed": false
   },
   "id": "bf3565fa2bc08513"
  },
  {
   "cell_type": "code",
   "execution_count": 90,
   "outputs": [
    {
     "data": {
      "text/plain": "array([[14, 32],\n       [32, 77]])"
     },
     "execution_count": 90,
     "metadata": {},
     "output_type": "execute_result"
    }
   ],
   "source": [
    "a2 @ a2.T"
   ],
   "metadata": {
    "collapsed": false
   },
   "id": "cc8a9a108f700601"
  },
  {
   "cell_type": "code",
   "execution_count": 74,
   "id": "bfb0f39e",
   "metadata": {},
   "outputs": [
    {
     "data": {
      "text/plain": "array([[14, 32],\n       [32, 77]])"
     },
     "execution_count": 74,
     "metadata": {},
     "output_type": "execute_result"
    }
   ],
   "source": [
    "# this is matrix multiplication in numpy\n",
    "a2.dot(a2.T) # or np.dot(a2, a2.T)"
   ]
  },
  {
   "cell_type": "code",
   "execution_count": 95,
   "id": "d75c6ca4",
   "metadata": {},
   "outputs": [],
   "source": [
    "# implement matrix multiplication in pure python\n",
    "\n",
    "def mtrx_mult(m1, m2):\n",
    "    return m1 @ m2\n",
    "\n",
    "# assert (mtrx_mult(a2, a2.T) == a2.dot(a2.T))"
   ]
  },
  {
   "cell_type": "code",
   "execution_count": null,
   "id": "2921c3b3",
   "metadata": {},
   "outputs": [],
   "source": [
    "import numpy.linalg as linalg"
   ]
  },
  {
   "cell_type": "code",
   "execution_count": null,
   "id": "9ff7ad7a",
   "metadata": {},
   "outputs": [],
   "source": [
    "# linalg.eigvals\n",
    "# linalg.det\n",
    "# linalg.inv\n",
    "# linalg.solve"
   ]
  },
  {
   "cell_type": "markdown",
   "id": "bc6183ea",
   "metadata": {},
   "source": [
    "##### Statistics"
   ]
  },
  {
   "cell_type": "code",
   "execution_count": null,
   "id": "c8c3469e",
   "metadata": {},
   "outputs": [],
   "source": [
    "# np.mean(); np.var(); np.std()"
   ]
  },
  {
   "cell_type": "code",
   "execution_count": null,
   "id": "a2a719a3",
   "metadata": {},
   "outputs": [],
   "source": [
    "# lets calculate variance by its definition"
   ]
  },
  {
   "cell_type": "markdown",
   "id": "f9999374",
   "metadata": {},
   "source": [
    "You can generate random samples from different distributions. You can find the list here - https://numpy.org/doc/1.16/reference/routines.random.html"
   ]
  },
  {
   "cell_type": "markdown",
   "id": "95819cab",
   "metadata": {},
   "source": [
    "# Pandas"
   ]
  },
  {
   "cell_type": "markdown",
   "id": "a4b7c394",
   "metadata": {},
   "source": [
    "why to use pandas?"
   ]
  },
  {
   "cell_type": "code",
   "execution_count": 1,
   "id": "d52f5cda",
   "metadata": {
    "ExecuteTime": {
     "end_time": "2023-09-12T08:07:53.604789448Z",
     "start_time": "2023-09-12T08:07:53.459343508Z"
    }
   },
   "outputs": [],
   "source": [
    "import pandas as pd"
   ]
  },
  {
   "cell_type": "markdown",
   "id": "e66d25b2",
   "metadata": {},
   "source": [
    "##### pd.Series"
   ]
  },
  {
   "cell_type": "code",
   "execution_count": 2,
   "id": "90e7397a",
   "metadata": {
    "ExecuteTime": {
     "end_time": "2023-09-12T08:07:55.248089460Z",
     "start_time": "2023-09-12T08:07:55.241795713Z"
    }
   },
   "outputs": [],
   "source": [
    "clubs = pd.Series([\"Real\", \"PSG\", \"Liverpool\"])\n",
    "titles = pd.Series([35, 10, 1])"
   ]
  },
  {
   "cell_type": "code",
   "execution_count": 3,
   "id": "765736d3",
   "metadata": {
    "ExecuteTime": {
     "end_time": "2023-09-12T08:07:57.797498819Z",
     "start_time": "2023-09-12T08:07:57.792034333Z"
    }
   },
   "outputs": [
    {
     "data": {
      "text/plain": "0         Real\n1          PSG\n2    Liverpool\ndtype: object"
     },
     "execution_count": 3,
     "metadata": {},
     "output_type": "execute_result"
    }
   ],
   "source": [
    "clubs"
   ]
  },
  {
   "cell_type": "code",
   "execution_count": 4,
   "id": "f9cbb15b",
   "metadata": {
    "ExecuteTime": {
     "end_time": "2023-09-12T08:08:02.551533724Z",
     "start_time": "2023-09-12T08:08:02.543510483Z"
    }
   },
   "outputs": [
    {
     "data": {
      "text/plain": "0    35\n1    10\n2     1\ndtype: int64"
     },
     "execution_count": 4,
     "metadata": {},
     "output_type": "execute_result"
    }
   ],
   "source": [
    "titles"
   ]
  },
  {
   "cell_type": "markdown",
   "id": "f5d0cdb5",
   "metadata": {},
   "source": [
    "##### pd.Dataframe"
   ]
  },
  {
   "cell_type": "code",
   "execution_count": 5,
   "id": "48085080",
   "metadata": {
    "ExecuteTime": {
     "end_time": "2023-09-12T08:08:16.552881456Z",
     "start_time": "2023-09-12T08:08:16.549554602Z"
    }
   },
   "outputs": [],
   "source": [
    "club_data = pd.DataFrame({\"Club name\": clubs, \n",
    "                         \"Titles\": titles})"
   ]
  },
  {
   "cell_type": "code",
   "execution_count": 6,
   "id": "fb004db3",
   "metadata": {
    "ExecuteTime": {
     "end_time": "2023-09-12T08:08:18.604904360Z",
     "start_time": "2023-09-12T08:08:18.597992287Z"
    }
   },
   "outputs": [
    {
     "data": {
      "text/plain": "   Club name  Titles\n0       Real      35\n1        PSG      10\n2  Liverpool       1",
      "text/html": "<div>\n<style scoped>\n    .dataframe tbody tr th:only-of-type {\n        vertical-align: middle;\n    }\n\n    .dataframe tbody tr th {\n        vertical-align: top;\n    }\n\n    .dataframe thead th {\n        text-align: right;\n    }\n</style>\n<table border=\"1\" class=\"dataframe\">\n  <thead>\n    <tr style=\"text-align: right;\">\n      <th></th>\n      <th>Club name</th>\n      <th>Titles</th>\n    </tr>\n  </thead>\n  <tbody>\n    <tr>\n      <th>0</th>\n      <td>Real</td>\n      <td>35</td>\n    </tr>\n    <tr>\n      <th>1</th>\n      <td>PSG</td>\n      <td>10</td>\n    </tr>\n    <tr>\n      <th>2</th>\n      <td>Liverpool</td>\n      <td>1</td>\n    </tr>\n  </tbody>\n</table>\n</div>"
     },
     "execution_count": 6,
     "metadata": {},
     "output_type": "execute_result"
    }
   ],
   "source": [
    "club_data"
   ]
  },
  {
   "cell_type": "code",
   "execution_count": null,
   "id": "b1494ece",
   "metadata": {},
   "outputs": [],
   "source": [
    "# common terms here - index, columns, rows, values (data)"
   ]
  },
  {
   "cell_type": "code",
   "execution_count": 7,
   "id": "34816729",
   "metadata": {
    "ExecuteTime": {
     "end_time": "2023-09-12T08:08:29.140176714Z",
     "start_time": "2023-09-12T08:08:29.099024351Z"
    }
   },
   "outputs": [],
   "source": [
    "df = pd.read_csv('car data.csv')"
   ]
  },
  {
   "cell_type": "markdown",
   "id": "5f0c393a",
   "metadata": {},
   "source": [
    "##### slicing"
   ]
  },
  {
   "cell_type": "code",
   "execution_count": 8,
   "id": "ea1e898f",
   "metadata": {
    "ExecuteTime": {
     "end_time": "2023-09-12T08:08:33.318741530Z",
     "start_time": "2023-09-12T08:08:33.305909457Z"
    }
   },
   "outputs": [
    {
     "data": {
      "text/plain": "   Kms_Driven  Present_Price\n0       27000           5.59\n1       43000           9.54\n2        6900           9.85\n3        5200           4.15\n4       42450           6.87",
      "text/html": "<div>\n<style scoped>\n    .dataframe tbody tr th:only-of-type {\n        vertical-align: middle;\n    }\n\n    .dataframe tbody tr th {\n        vertical-align: top;\n    }\n\n    .dataframe thead th {\n        text-align: right;\n    }\n</style>\n<table border=\"1\" class=\"dataframe\">\n  <thead>\n    <tr style=\"text-align: right;\">\n      <th></th>\n      <th>Kms_Driven</th>\n      <th>Present_Price</th>\n    </tr>\n  </thead>\n  <tbody>\n    <tr>\n      <th>0</th>\n      <td>27000</td>\n      <td>5.59</td>\n    </tr>\n    <tr>\n      <th>1</th>\n      <td>43000</td>\n      <td>9.54</td>\n    </tr>\n    <tr>\n      <th>2</th>\n      <td>6900</td>\n      <td>9.85</td>\n    </tr>\n    <tr>\n      <th>3</th>\n      <td>5200</td>\n      <td>4.15</td>\n    </tr>\n    <tr>\n      <th>4</th>\n      <td>42450</td>\n      <td>6.87</td>\n    </tr>\n  </tbody>\n</table>\n</div>"
     },
     "execution_count": 8,
     "metadata": {},
     "output_type": "execute_result"
    }
   ],
   "source": [
    "df[['Kms_Driven', 'Present_Price']].head() # .tail()"
   ]
  },
  {
   "cell_type": "code",
   "execution_count": 9,
   "id": "68b7476f",
   "metadata": {
    "ExecuteTime": {
     "end_time": "2023-09-12T08:08:44.785149517Z",
     "start_time": "2023-09-12T08:08:44.775541988Z"
    }
   },
   "outputs": [
    {
     "data": {
      "text/plain": "        Car_Name  Year  Selling_Price  Present_Price  Kms_Driven Fuel_Type  \\\n2           ciaz  2017           7.25           9.85        6900    Petrol   \n3        wagon r  2011           2.85           4.15        5200    Petrol   \n4          swift  2014           4.60           6.87       42450    Diesel   \n5  vitara brezza  2018           9.25           9.83        2071    Diesel   \n\n  Seller_Type Transmission  Owner  \n2      Dealer       Manual      0  \n3      Dealer       Manual      0  \n4      Dealer       Manual      0  \n5      Dealer       Manual      0  ",
      "text/html": "<div>\n<style scoped>\n    .dataframe tbody tr th:only-of-type {\n        vertical-align: middle;\n    }\n\n    .dataframe tbody tr th {\n        vertical-align: top;\n    }\n\n    .dataframe thead th {\n        text-align: right;\n    }\n</style>\n<table border=\"1\" class=\"dataframe\">\n  <thead>\n    <tr style=\"text-align: right;\">\n      <th></th>\n      <th>Car_Name</th>\n      <th>Year</th>\n      <th>Selling_Price</th>\n      <th>Present_Price</th>\n      <th>Kms_Driven</th>\n      <th>Fuel_Type</th>\n      <th>Seller_Type</th>\n      <th>Transmission</th>\n      <th>Owner</th>\n    </tr>\n  </thead>\n  <tbody>\n    <tr>\n      <th>2</th>\n      <td>ciaz</td>\n      <td>2017</td>\n      <td>7.25</td>\n      <td>9.85</td>\n      <td>6900</td>\n      <td>Petrol</td>\n      <td>Dealer</td>\n      <td>Manual</td>\n      <td>0</td>\n    </tr>\n    <tr>\n      <th>3</th>\n      <td>wagon r</td>\n      <td>2011</td>\n      <td>2.85</td>\n      <td>4.15</td>\n      <td>5200</td>\n      <td>Petrol</td>\n      <td>Dealer</td>\n      <td>Manual</td>\n      <td>0</td>\n    </tr>\n    <tr>\n      <th>4</th>\n      <td>swift</td>\n      <td>2014</td>\n      <td>4.60</td>\n      <td>6.87</td>\n      <td>42450</td>\n      <td>Diesel</td>\n      <td>Dealer</td>\n      <td>Manual</td>\n      <td>0</td>\n    </tr>\n    <tr>\n      <th>5</th>\n      <td>vitara brezza</td>\n      <td>2018</td>\n      <td>9.25</td>\n      <td>9.83</td>\n      <td>2071</td>\n      <td>Diesel</td>\n      <td>Dealer</td>\n      <td>Manual</td>\n      <td>0</td>\n    </tr>\n  </tbody>\n</table>\n</div>"
     },
     "execution_count": 9,
     "metadata": {},
     "output_type": "execute_result"
    }
   ],
   "source": [
    "df.loc[2:5]"
   ]
  },
  {
   "cell_type": "code",
   "execution_count": 10,
   "id": "97ce1227",
   "metadata": {
    "ExecuteTime": {
     "end_time": "2023-09-12T08:08:47.876036357Z",
     "start_time": "2023-09-12T08:08:47.864926861Z"
    }
   },
   "outputs": [
    {
     "data": {
      "text/plain": "  Car_Name  Year  Selling_Price  Present_Price  Kms_Driven Fuel_Type  \\\n2     ciaz  2017           7.25           9.85        6900    Petrol   \n3  wagon r  2011           2.85           4.15        5200    Petrol   \n4    swift  2014           4.60           6.87       42450    Diesel   \n\n  Seller_Type Transmission  Owner  \n2      Dealer       Manual      0  \n3      Dealer       Manual      0  \n4      Dealer       Manual      0  ",
      "text/html": "<div>\n<style scoped>\n    .dataframe tbody tr th:only-of-type {\n        vertical-align: middle;\n    }\n\n    .dataframe tbody tr th {\n        vertical-align: top;\n    }\n\n    .dataframe thead th {\n        text-align: right;\n    }\n</style>\n<table border=\"1\" class=\"dataframe\">\n  <thead>\n    <tr style=\"text-align: right;\">\n      <th></th>\n      <th>Car_Name</th>\n      <th>Year</th>\n      <th>Selling_Price</th>\n      <th>Present_Price</th>\n      <th>Kms_Driven</th>\n      <th>Fuel_Type</th>\n      <th>Seller_Type</th>\n      <th>Transmission</th>\n      <th>Owner</th>\n    </tr>\n  </thead>\n  <tbody>\n    <tr>\n      <th>2</th>\n      <td>ciaz</td>\n      <td>2017</td>\n      <td>7.25</td>\n      <td>9.85</td>\n      <td>6900</td>\n      <td>Petrol</td>\n      <td>Dealer</td>\n      <td>Manual</td>\n      <td>0</td>\n    </tr>\n    <tr>\n      <th>3</th>\n      <td>wagon r</td>\n      <td>2011</td>\n      <td>2.85</td>\n      <td>4.15</td>\n      <td>5200</td>\n      <td>Petrol</td>\n      <td>Dealer</td>\n      <td>Manual</td>\n      <td>0</td>\n    </tr>\n    <tr>\n      <th>4</th>\n      <td>swift</td>\n      <td>2014</td>\n      <td>4.60</td>\n      <td>6.87</td>\n      <td>42450</td>\n      <td>Diesel</td>\n      <td>Dealer</td>\n      <td>Manual</td>\n      <td>0</td>\n    </tr>\n  </tbody>\n</table>\n</div>"
     },
     "execution_count": 10,
     "metadata": {},
     "output_type": "execute_result"
    }
   ],
   "source": [
    "df.iloc[2:5]"
   ]
  },
  {
   "cell_type": "code",
   "execution_count": null,
   "id": "38188316",
   "metadata": {},
   "outputs": [],
   "source": [
    "# df.to_csv('car_data_upd.csv')"
   ]
  },
  {
   "cell_type": "code",
   "execution_count": 11,
   "id": "1ece3023",
   "metadata": {
    "ExecuteTime": {
     "end_time": "2023-09-12T08:09:40.340429339Z",
     "start_time": "2023-09-12T08:09:40.294107638Z"
    }
   },
   "outputs": [
    {
     "data": {
      "text/plain": "Car_Name          object\nYear               int64\nSelling_Price    float64\nPresent_Price    float64\nKms_Driven         int64\nFuel_Type         object\nSeller_Type       object\nTransmission      object\nOwner              int64\ndtype: object"
     },
     "execution_count": 11,
     "metadata": {},
     "output_type": "execute_result"
    }
   ],
   "source": [
    "df.dtypes"
   ]
  },
  {
   "cell_type": "code",
   "execution_count": 12,
   "id": "7c347f0e",
   "metadata": {
    "ExecuteTime": {
     "end_time": "2023-09-12T08:09:42.802638786Z",
     "start_time": "2023-09-12T08:09:42.787850892Z"
    }
   },
   "outputs": [
    {
     "data": {
      "text/plain": "              Year  Selling_Price  Present_Price     Kms_Driven       Owner\ncount   301.000000     301.000000     301.000000     301.000000  301.000000\nmean   2013.627907       4.661296       7.628472   36947.205980    0.043189\nstd       2.891554       5.082812       8.644115   38886.883882    0.247915\nmin    2003.000000       0.100000       0.320000     500.000000    0.000000\n25%    2012.000000       0.900000       1.200000   15000.000000    0.000000\n50%    2014.000000       3.600000       6.400000   32000.000000    0.000000\n75%    2016.000000       6.000000       9.900000   48767.000000    0.000000\nmax    2018.000000      35.000000      92.600000  500000.000000    3.000000",
      "text/html": "<div>\n<style scoped>\n    .dataframe tbody tr th:only-of-type {\n        vertical-align: middle;\n    }\n\n    .dataframe tbody tr th {\n        vertical-align: top;\n    }\n\n    .dataframe thead th {\n        text-align: right;\n    }\n</style>\n<table border=\"1\" class=\"dataframe\">\n  <thead>\n    <tr style=\"text-align: right;\">\n      <th></th>\n      <th>Year</th>\n      <th>Selling_Price</th>\n      <th>Present_Price</th>\n      <th>Kms_Driven</th>\n      <th>Owner</th>\n    </tr>\n  </thead>\n  <tbody>\n    <tr>\n      <th>count</th>\n      <td>301.000000</td>\n      <td>301.000000</td>\n      <td>301.000000</td>\n      <td>301.000000</td>\n      <td>301.000000</td>\n    </tr>\n    <tr>\n      <th>mean</th>\n      <td>2013.627907</td>\n      <td>4.661296</td>\n      <td>7.628472</td>\n      <td>36947.205980</td>\n      <td>0.043189</td>\n    </tr>\n    <tr>\n      <th>std</th>\n      <td>2.891554</td>\n      <td>5.082812</td>\n      <td>8.644115</td>\n      <td>38886.883882</td>\n      <td>0.247915</td>\n    </tr>\n    <tr>\n      <th>min</th>\n      <td>2003.000000</td>\n      <td>0.100000</td>\n      <td>0.320000</td>\n      <td>500.000000</td>\n      <td>0.000000</td>\n    </tr>\n    <tr>\n      <th>25%</th>\n      <td>2012.000000</td>\n      <td>0.900000</td>\n      <td>1.200000</td>\n      <td>15000.000000</td>\n      <td>0.000000</td>\n    </tr>\n    <tr>\n      <th>50%</th>\n      <td>2014.000000</td>\n      <td>3.600000</td>\n      <td>6.400000</td>\n      <td>32000.000000</td>\n      <td>0.000000</td>\n    </tr>\n    <tr>\n      <th>75%</th>\n      <td>2016.000000</td>\n      <td>6.000000</td>\n      <td>9.900000</td>\n      <td>48767.000000</td>\n      <td>0.000000</td>\n    </tr>\n    <tr>\n      <th>max</th>\n      <td>2018.000000</td>\n      <td>35.000000</td>\n      <td>92.600000</td>\n      <td>500000.000000</td>\n      <td>3.000000</td>\n    </tr>\n  </tbody>\n</table>\n</div>"
     },
     "execution_count": 12,
     "metadata": {},
     "output_type": "execute_result"
    }
   ],
   "source": [
    "df.describe()"
   ]
  },
  {
   "cell_type": "code",
   "execution_count": 13,
   "id": "2caaee40",
   "metadata": {
    "ExecuteTime": {
     "end_time": "2023-09-12T08:09:49.504738497Z",
     "start_time": "2023-09-12T08:09:49.498942943Z"
    }
   },
   "outputs": [
    {
     "name": "stdout",
     "output_type": "stream",
     "text": [
      "<class 'pandas.core.frame.DataFrame'>\n",
      "RangeIndex: 301 entries, 0 to 300\n",
      "Data columns (total 9 columns):\n",
      " #   Column         Non-Null Count  Dtype  \n",
      "---  ------         --------------  -----  \n",
      " 0   Car_Name       301 non-null    object \n",
      " 1   Year           301 non-null    int64  \n",
      " 2   Selling_Price  301 non-null    float64\n",
      " 3   Present_Price  301 non-null    float64\n",
      " 4   Kms_Driven     301 non-null    int64  \n",
      " 5   Fuel_Type      301 non-null    object \n",
      " 6   Seller_Type    301 non-null    object \n",
      " 7   Transmission   301 non-null    object \n",
      " 8   Owner          301 non-null    int64  \n",
      "dtypes: float64(2), int64(3), object(4)\n",
      "memory usage: 21.3+ KB\n"
     ]
    }
   ],
   "source": [
    "df.info()"
   ]
  },
  {
   "cell_type": "code",
   "execution_count": 14,
   "id": "b1c3b0f3",
   "metadata": {
    "ExecuteTime": {
     "end_time": "2023-09-12T08:10:02.176000601Z",
     "start_time": "2023-09-12T08:10:02.172286281Z"
    }
   },
   "outputs": [
    {
     "data": {
      "text/plain": "    Car_Name  Year  Selling_Price  Present_Price  Kms_Driven Fuel_Type  \\\n279     city  2014           6.25           13.6       40126    Petrol   \n281     city  2006           2.10            7.6       50456    Petrol   \n282     city  2014           8.25           14.0       63000    Diesel   \n284     brio  2013           3.50            5.9        9800    Petrol   \n290    amaze  2014           4.50            6.4       19000    Petrol   \n293     city  2010           3.25            9.9       38000    Petrol   \n294    amaze  2014           3.75            6.8       33019    Petrol   \n298     city  2009           3.35           11.0       87934    Petrol   \n\n    Seller_Type Transmission  Owner  \n279      Dealer       Manual      0  \n281      Dealer       Manual      0  \n282      Dealer       Manual      0  \n284      Dealer       Manual      0  \n290      Dealer       Manual      0  \n293      Dealer       Manual      0  \n294      Dealer       Manual      0  \n298      Dealer       Manual      0  ",
      "text/html": "<div>\n<style scoped>\n    .dataframe tbody tr th:only-of-type {\n        vertical-align: middle;\n    }\n\n    .dataframe tbody tr th {\n        vertical-align: top;\n    }\n\n    .dataframe thead th {\n        text-align: right;\n    }\n</style>\n<table border=\"1\" class=\"dataframe\">\n  <thead>\n    <tr style=\"text-align: right;\">\n      <th></th>\n      <th>Car_Name</th>\n      <th>Year</th>\n      <th>Selling_Price</th>\n      <th>Present_Price</th>\n      <th>Kms_Driven</th>\n      <th>Fuel_Type</th>\n      <th>Seller_Type</th>\n      <th>Transmission</th>\n      <th>Owner</th>\n    </tr>\n  </thead>\n  <tbody>\n    <tr>\n      <th>279</th>\n      <td>city</td>\n      <td>2014</td>\n      <td>6.25</td>\n      <td>13.6</td>\n      <td>40126</td>\n      <td>Petrol</td>\n      <td>Dealer</td>\n      <td>Manual</td>\n      <td>0</td>\n    </tr>\n    <tr>\n      <th>281</th>\n      <td>city</td>\n      <td>2006</td>\n      <td>2.10</td>\n      <td>7.6</td>\n      <td>50456</td>\n      <td>Petrol</td>\n      <td>Dealer</td>\n      <td>Manual</td>\n      <td>0</td>\n    </tr>\n    <tr>\n      <th>282</th>\n      <td>city</td>\n      <td>2014</td>\n      <td>8.25</td>\n      <td>14.0</td>\n      <td>63000</td>\n      <td>Diesel</td>\n      <td>Dealer</td>\n      <td>Manual</td>\n      <td>0</td>\n    </tr>\n    <tr>\n      <th>284</th>\n      <td>brio</td>\n      <td>2013</td>\n      <td>3.50</td>\n      <td>5.9</td>\n      <td>9800</td>\n      <td>Petrol</td>\n      <td>Dealer</td>\n      <td>Manual</td>\n      <td>0</td>\n    </tr>\n    <tr>\n      <th>290</th>\n      <td>amaze</td>\n      <td>2014</td>\n      <td>4.50</td>\n      <td>6.4</td>\n      <td>19000</td>\n      <td>Petrol</td>\n      <td>Dealer</td>\n      <td>Manual</td>\n      <td>0</td>\n    </tr>\n    <tr>\n      <th>293</th>\n      <td>city</td>\n      <td>2010</td>\n      <td>3.25</td>\n      <td>9.9</td>\n      <td>38000</td>\n      <td>Petrol</td>\n      <td>Dealer</td>\n      <td>Manual</td>\n      <td>0</td>\n    </tr>\n    <tr>\n      <th>294</th>\n      <td>amaze</td>\n      <td>2014</td>\n      <td>3.75</td>\n      <td>6.8</td>\n      <td>33019</td>\n      <td>Petrol</td>\n      <td>Dealer</td>\n      <td>Manual</td>\n      <td>0</td>\n    </tr>\n    <tr>\n      <th>298</th>\n      <td>city</td>\n      <td>2009</td>\n      <td>3.35</td>\n      <td>11.0</td>\n      <td>87934</td>\n      <td>Petrol</td>\n      <td>Dealer</td>\n      <td>Manual</td>\n      <td>0</td>\n    </tr>\n  </tbody>\n</table>\n</div>"
     },
     "execution_count": 14,
     "metadata": {},
     "output_type": "execute_result"
    }
   ],
   "source": [
    "df[df['Year']<2015].tail(8)"
   ]
  },
  {
   "cell_type": "code",
   "execution_count": 15,
   "id": "ac3f72ca",
   "metadata": {
    "ExecuteTime": {
     "end_time": "2023-09-12T08:10:03.944405682Z",
     "start_time": "2023-09-12T08:10:03.915482080Z"
    }
   },
   "outputs": [
    {
     "data": {
      "text/plain": "                   Year  Selling_Price  Present_Price  Kms_Driven Fuel_Type  \\\nCar_Name                                                                      \n800                2003           0.35           2.28      127000    Petrol   \nActiva 3g          2016           0.45           0.54      500000    Petrol   \nActiva 4g          2017           0.40           0.51        1300    Petrol   \nBajaj  ct 100      2015           0.18           0.32       35000    Petrol   \nBajaj Avenger 150  2016           0.75           0.80        7000    Petrol   \n...                 ...            ...            ...         ...       ...   \nsx4                2013           4.75           9.54       62000    Petrol   \nverna              2017           9.25           9.40       71000    Petrol   \nvitara brezza      2018           9.25           9.83        2071    Diesel   \nwagon r            2015           3.25           5.09       65000    Petrol   \nxcent              2017           5.75           7.13       35866    Petrol   \n\n                  Seller_Type Transmission  Owner  \nCar_Name                                           \n800                Individual       Manual      0  \nActiva 3g          Individual    Automatic      0  \nActiva 4g          Individual    Automatic      0  \nBajaj  ct 100      Individual       Manual      0  \nBajaj Avenger 150  Individual       Manual      0  \n...                       ...          ...    ...  \nsx4                    Dealer       Manual      0  \nverna                  Dealer       Manual      0  \nvitara brezza          Dealer       Manual      0  \nwagon r                Dealer       Manual      0  \nxcent                  Dealer       Manual      1  \n\n[98 rows x 8 columns]",
      "text/html": "<div>\n<style scoped>\n    .dataframe tbody tr th:only-of-type {\n        vertical-align: middle;\n    }\n\n    .dataframe tbody tr th {\n        vertical-align: top;\n    }\n\n    .dataframe thead th {\n        text-align: right;\n    }\n</style>\n<table border=\"1\" class=\"dataframe\">\n  <thead>\n    <tr style=\"text-align: right;\">\n      <th></th>\n      <th>Year</th>\n      <th>Selling_Price</th>\n      <th>Present_Price</th>\n      <th>Kms_Driven</th>\n      <th>Fuel_Type</th>\n      <th>Seller_Type</th>\n      <th>Transmission</th>\n      <th>Owner</th>\n    </tr>\n    <tr>\n      <th>Car_Name</th>\n      <th></th>\n      <th></th>\n      <th></th>\n      <th></th>\n      <th></th>\n      <th></th>\n      <th></th>\n      <th></th>\n    </tr>\n  </thead>\n  <tbody>\n    <tr>\n      <th>800</th>\n      <td>2003</td>\n      <td>0.35</td>\n      <td>2.28</td>\n      <td>127000</td>\n      <td>Petrol</td>\n      <td>Individual</td>\n      <td>Manual</td>\n      <td>0</td>\n    </tr>\n    <tr>\n      <th>Activa 3g</th>\n      <td>2016</td>\n      <td>0.45</td>\n      <td>0.54</td>\n      <td>500000</td>\n      <td>Petrol</td>\n      <td>Individual</td>\n      <td>Automatic</td>\n      <td>0</td>\n    </tr>\n    <tr>\n      <th>Activa 4g</th>\n      <td>2017</td>\n      <td>0.40</td>\n      <td>0.51</td>\n      <td>1300</td>\n      <td>Petrol</td>\n      <td>Individual</td>\n      <td>Automatic</td>\n      <td>0</td>\n    </tr>\n    <tr>\n      <th>Bajaj  ct 100</th>\n      <td>2015</td>\n      <td>0.18</td>\n      <td>0.32</td>\n      <td>35000</td>\n      <td>Petrol</td>\n      <td>Individual</td>\n      <td>Manual</td>\n      <td>0</td>\n    </tr>\n    <tr>\n      <th>Bajaj Avenger 150</th>\n      <td>2016</td>\n      <td>0.75</td>\n      <td>0.80</td>\n      <td>7000</td>\n      <td>Petrol</td>\n      <td>Individual</td>\n      <td>Manual</td>\n      <td>0</td>\n    </tr>\n    <tr>\n      <th>...</th>\n      <td>...</td>\n      <td>...</td>\n      <td>...</td>\n      <td>...</td>\n      <td>...</td>\n      <td>...</td>\n      <td>...</td>\n      <td>...</td>\n    </tr>\n    <tr>\n      <th>sx4</th>\n      <td>2013</td>\n      <td>4.75</td>\n      <td>9.54</td>\n      <td>62000</td>\n      <td>Petrol</td>\n      <td>Dealer</td>\n      <td>Manual</td>\n      <td>0</td>\n    </tr>\n    <tr>\n      <th>verna</th>\n      <td>2017</td>\n      <td>9.25</td>\n      <td>9.40</td>\n      <td>71000</td>\n      <td>Petrol</td>\n      <td>Dealer</td>\n      <td>Manual</td>\n      <td>0</td>\n    </tr>\n    <tr>\n      <th>vitara brezza</th>\n      <td>2018</td>\n      <td>9.25</td>\n      <td>9.83</td>\n      <td>2071</td>\n      <td>Diesel</td>\n      <td>Dealer</td>\n      <td>Manual</td>\n      <td>0</td>\n    </tr>\n    <tr>\n      <th>wagon r</th>\n      <td>2015</td>\n      <td>3.25</td>\n      <td>5.09</td>\n      <td>65000</td>\n      <td>Petrol</td>\n      <td>Dealer</td>\n      <td>Manual</td>\n      <td>0</td>\n    </tr>\n    <tr>\n      <th>xcent</th>\n      <td>2017</td>\n      <td>5.75</td>\n      <td>7.13</td>\n      <td>35866</td>\n      <td>Petrol</td>\n      <td>Dealer</td>\n      <td>Manual</td>\n      <td>1</td>\n    </tr>\n  </tbody>\n</table>\n<p>98 rows × 8 columns</p>\n</div>"
     },
     "execution_count": 15,
     "metadata": {},
     "output_type": "execute_result"
    }
   ],
   "source": [
    "df_grouped = df.groupby('Car_Name').max()\n",
    "df_grouped"
   ]
  },
  {
   "cell_type": "code",
   "execution_count": 16,
   "id": "cbd2d60c",
   "metadata": {
    "ExecuteTime": {
     "end_time": "2023-09-12T08:10:15.734867260Z",
     "start_time": "2023-09-12T08:10:15.456426671Z"
    }
   },
   "outputs": [
    {
     "data": {
      "text/plain": "<Axes: >"
     },
     "execution_count": 16,
     "metadata": {},
     "output_type": "execute_result"
    },
    {
     "data": {
      "text/plain": "<Figure size 640x480 with 1 Axes>",
      "image/png": "[encoded data removed]"
     },
     "metadata": {},
     "output_type": "display_data"
    }
   ],
   "source": [
    "df['Kms_Driven'].plot()"
   ]
  },
  {
   "cell_type": "code",
   "execution_count": 17,
   "id": "4198d7bd",
   "metadata": {
    "ExecuteTime": {
     "end_time": "2023-09-12T08:10:20.301218360Z",
     "start_time": "2023-09-12T08:10:20.202909525Z"
    }
   },
   "outputs": [
    {
     "data": {
      "text/plain": "<Axes: >"
     },
     "execution_count": 17,
     "metadata": {},
     "output_type": "execute_result"
    },
    {
     "data": {
      "text/plain": "<Figure size 640x480 with 1 Axes>",
      "image/png": "[encoded data removed]"
     },
     "metadata": {},
     "output_type": "display_data"
    }
   ],
   "source": [
    "df['Kms_Driven'].hist()"
   ]
  },
  {
   "cell_type": "code",
   "execution_count": 18,
   "id": "83482b09",
   "metadata": {
    "ExecuteTime": {
     "end_time": "2023-09-12T08:10:21.674329161Z",
     "start_time": "2023-09-12T08:10:21.667196792Z"
    }
   },
   "outputs": [
    {
     "data": {
      "text/plain": "    Car_Name  Year  Selling_Price  Present_Price  Kms_Driven Fuel_Type  \\\n0       ritz  2014           3.35           5.59       27000    Petrol   \n1        sx4  2013           4.75           9.54       43000    Diesel   \n2       ciaz  2017           7.25           9.85        6900    Petrol   \n3    wagon r  2011           2.85           4.15        5200    Petrol   \n4      swift  2014           4.60           6.87       42450    Diesel   \n..       ...   ...            ...            ...         ...       ...   \n296     city  2016           9.50          11.60       33988    Diesel   \n297     brio  2015           4.00           5.90       60000    Petrol   \n298     city  2009           3.35          11.00       87934    Petrol   \n299     city  2017          11.50          12.50        9000    Diesel   \n300     brio  2016           5.30           5.90        5464    Petrol   \n\n    Seller_Type Transmission  Owner  \n0        Dealer       Manual      0  \n1        Dealer       Manual      0  \n2        Dealer       Manual      0  \n3        Dealer       Manual      0  \n4        Dealer       Manual      0  \n..          ...          ...    ...  \n296      Dealer       Manual      0  \n297      Dealer       Manual      0  \n298      Dealer       Manual      0  \n299      Dealer       Manual      0  \n300      Dealer       Manual      0  \n\n[301 rows x 9 columns]",
      "text/html": "<div>\n<style scoped>\n    .dataframe tbody tr th:only-of-type {\n        vertical-align: middle;\n    }\n\n    .dataframe tbody tr th {\n        vertical-align: top;\n    }\n\n    .dataframe thead th {\n        text-align: right;\n    }\n</style>\n<table border=\"1\" class=\"dataframe\">\n  <thead>\n    <tr style=\"text-align: right;\">\n      <th></th>\n      <th>Car_Name</th>\n      <th>Year</th>\n      <th>Selling_Price</th>\n      <th>Present_Price</th>\n      <th>Kms_Driven</th>\n      <th>Fuel_Type</th>\n      <th>Seller_Type</th>\n      <th>Transmission</th>\n      <th>Owner</th>\n    </tr>\n  </thead>\n  <tbody>\n    <tr>\n      <th>0</th>\n      <td>ritz</td>\n      <td>2014</td>\n      <td>3.35</td>\n      <td>5.59</td>\n      <td>27000</td>\n      <td>Petrol</td>\n      <td>Dealer</td>\n      <td>Manual</td>\n      <td>0</td>\n    </tr>\n    <tr>\n      <th>1</th>\n      <td>sx4</td>\n      <td>2013</td>\n      <td>4.75</td>\n      <td>9.54</td>\n      <td>43000</td>\n      <td>Diesel</td>\n      <td>Dealer</td>\n      <td>Manual</td>\n      <td>0</td>\n    </tr>\n    <tr>\n      <th>2</th>\n      <td>ciaz</td>\n      <td>2017</td>\n      <td>7.25</td>\n      <td>9.85</td>\n      <td>6900</td>\n      <td>Petrol</td>\n      <td>Dealer</td>\n      <td>Manual</td>\n      <td>0</td>\n    </tr>\n    <tr>\n      <th>3</th>\n      <td>wagon r</td>\n      <td>2011</td>\n      <td>2.85</td>\n      <td>4.15</td>\n      <td>5200</td>\n      <td>Petrol</td>\n      <td>Dealer</td>\n      <td>Manual</td>\n      <td>0</td>\n    </tr>\n    <tr>\n      <th>4</th>\n      <td>swift</td>\n      <td>2014</td>\n      <td>4.60</td>\n      <td>6.87</td>\n      <td>42450</td>\n      <td>Diesel</td>\n      <td>Dealer</td>\n      <td>Manual</td>\n      <td>0</td>\n    </tr>\n    <tr>\n      <th>...</th>\n      <td>...</td>\n      <td>...</td>\n      <td>...</td>\n      <td>...</td>\n      <td>...</td>\n      <td>...</td>\n      <td>...</td>\n      <td>...</td>\n      <td>...</td>\n    </tr>\n    <tr>\n      <th>296</th>\n      <td>city</td>\n      <td>2016</td>\n      <td>9.50</td>\n      <td>11.60</td>\n      <td>33988</td>\n      <td>Diesel</td>\n      <td>Dealer</td>\n      <td>Manual</td>\n      <td>0</td>\n    </tr>\n    <tr>\n      <th>297</th>\n      <td>brio</td>\n      <td>2015</td>\n      <td>4.00</td>\n      <td>5.90</td>\n      <td>60000</td>\n      <td>Petrol</td>\n      <td>Dealer</td>\n      <td>Manual</td>\n      <td>0</td>\n    </tr>\n    <tr>\n      <th>298</th>\n      <td>city</td>\n      <td>2009</td>\n      <td>3.35</td>\n      <td>11.00</td>\n      <td>87934</td>\n      <td>Petrol</td>\n      <td>Dealer</td>\n      <td>Manual</td>\n      <td>0</td>\n    </tr>\n    <tr>\n      <th>299</th>\n      <td>city</td>\n      <td>2017</td>\n      <td>11.50</td>\n      <td>12.50</td>\n      <td>9000</td>\n      <td>Diesel</td>\n      <td>Dealer</td>\n      <td>Manual</td>\n      <td>0</td>\n    </tr>\n    <tr>\n      <th>300</th>\n      <td>brio</td>\n      <td>2016</td>\n      <td>5.30</td>\n      <td>5.90</td>\n      <td>5464</td>\n      <td>Petrol</td>\n      <td>Dealer</td>\n      <td>Manual</td>\n      <td>0</td>\n    </tr>\n  </tbody>\n</table>\n<p>301 rows × 9 columns</p>\n</div>"
     },
     "execution_count": 18,
     "metadata": {},
     "output_type": "execute_result"
    }
   ],
   "source": [
    "df"
   ]
  },
  {
   "cell_type": "markdown",
   "id": "131e0372",
   "metadata": {},
   "source": [
    "##### pandas join, merge, concat and append"
   ]
  },
  {
   "cell_type": "markdown",
   "id": "7dec6224",
   "metadata": {},
   "source": [
    "We will not go through the methods here. You can find all methods and examples here - https://pandas.pydata.org/docs/user_guide/merging.html"
   ]
  },
  {
   "cell_type": "markdown",
   "id": "4355ba9d",
   "metadata": {},
   "source": [
    "##### Dask"
   ]
  },
  {
   "cell_type": "markdown",
   "id": "051a8539",
   "metadata": {},
   "source": [
    "similar library - (e.g., for working with several dataframes parallely)\n",
    "https://docs.dask.org/en/stable/"
   ]
  },
  {
   "cell_type": "markdown",
   "id": "251dba03",
   "metadata": {},
   "source": [
    "# Matplotlib"
   ]
  },
  {
   "cell_type": "code",
   "execution_count": null,
   "id": "6442c606",
   "metadata": {},
   "outputs": [],
   "source": [
    "from matplotlib import pyplot as plt"
   ]
  },
  {
   "cell_type": "code",
   "execution_count": null,
   "id": "537be86e",
   "metadata": {},
   "outputs": [],
   "source": [
    "plt.plot([1, 2, 3, 4])"
   ]
  },
  {
   "cell_type": "code",
   "execution_count": null,
   "id": "172ec414",
   "metadata": {},
   "outputs": [],
   "source": [
    "plt.plot([1, 2, 3, 4], [5,6,11,8])"
   ]
  },
  {
   "cell_type": "code",
   "execution_count": null,
   "id": "56b8d40e",
   "metadata": {},
   "outputs": [],
   "source": [
    "x = [1, 2, 3, 4]\n",
    "y = [5, 6, 11, 8]\n",
    "\n",
    "fig, ax = plt.subplots(figsize=(10,10))\n",
    "\n",
    "ax.plot(x, y)\n",
    "ax.set(title=\"Sample Simple Plot\", xlabel=\"x-axis\", ylabel=\"y-axis\")\n",
    "\n",
    "fig.savefig(\"simple-plot.png\")"
   ]
  },
  {
   "cell_type": "code",
   "execution_count": null,
   "id": "5ccde5c1",
   "metadata": {},
   "outputs": [],
   "source": []
  }
 ],
 "metadata": {
  "kernelspec": {
   "display_name": "Python 3 (ipykernel)",
   "language": "python",
   "name": "python3"
  },
  "language_info": {
   "codemirror_mode": {
    "name": "ipython",
    "version": 3
   },
   "file_extension": ".py",
   "mimetype": "text/x-python",
   "name": "python",
   "nbconvert_exporter": "python",
   "pygments_lexer": "ipython3",
   "version": "3.9.12"
  }
 },
 "nbformat": 4,
 "nbformat_minor": 5
}
