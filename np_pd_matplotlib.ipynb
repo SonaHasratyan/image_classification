{
 "cells": [
  {
   "cell_type": "code",
   "execution_count": 1,
   "outputs": [],
   "source": [
    "import numpy as np\n",
    "import pandas as pd\n",
    "from matplotlib import pyplot as plt"
   ],
   "metadata": {
    "collapsed": false,
    "ExecuteTime": {
     "end_time": "2023-09-12T08:00:39.527805994Z",
     "start_time": "2023-09-12T08:00:39.030741247Z"
    }
   },
   "id": "62f0fc053b2f9bc2"
  },
  {
   "cell_type": "markdown",
   "source": [
    "1. Generate random integer numbers of a given shape. From random generators you can use only np.random.rand()"
   ],
   "metadata": {
    "collapsed": false
   },
   "id": "328c9bc250ce9671"
  },
  {
   "cell_type": "code",
   "execution_count": 2,
   "outputs": [],
   "source": [
    "def generate_rand_int_for_shape(*args):\n",
    "    rand_matrix = np.random.rand(*args)\n",
    "    shape = rand_matrix.shape\n",
    "    rand_matrix = rand_matrix.reshape(-1)\n",
    "    rand_matrix = np.array([int(str(item).split(\"0.\")[1]) for item in rand_matrix])\n",
    "\n",
    "    return rand_matrix.reshape(shape)"
   ],
   "metadata": {
    "collapsed": false,
    "ExecuteTime": {
     "end_time": "2023-09-12T08:00:40.059230048Z",
     "start_time": "2023-09-12T08:00:40.049398199Z"
    }
   },
   "id": "de201890c034d1b5"
  },
  {
   "cell_type": "code",
   "execution_count": 3,
   "outputs": [
    {
     "data": {
      "text/plain": "array([[6555690791151314, 7870391362362439, 6920117995700258],\n       [3681459509261067,  669658480462749, 2129985137050827]])"
     },
     "execution_count": 3,
     "metadata": {},
     "output_type": "execute_result"
    }
   ],
   "source": [
    "generate_rand_int_for_shape(2, 3)"
   ],
   "metadata": {
    "collapsed": false,
    "ExecuteTime": {
     "end_time": "2023-09-12T08:00:40.288540777Z",
     "start_time": "2023-09-12T08:00:40.273881388Z"
    }
   },
   "id": "4d5d44a818968b62"
  },
  {
   "cell_type": "markdown",
   "source": [
    "2. Find unique values of the given numpy array."
   ],
   "metadata": {
    "collapsed": false
   },
   "id": "c674acd474db412e"
  },
  {
   "cell_type": "code",
   "execution_count": 4,
   "outputs": [],
   "source": [
    "def get_unique_values1(arr:np.ndarray):\n",
    "    arr = arr.reshape(-1)\n",
    "    unique_values = []\n",
    "    non_unique_values = []\n",
    "\n",
    "    for item in arr:\n",
    "        if item in unique_values:\n",
    "            unique_values.remove(item)\n",
    "            non_unique_values.append(item)\n",
    "        else:\n",
    "            if not item in non_unique_values:\n",
    "                unique_values.append(item)\n",
    "\n",
    "    return unique_values\n",
    "\n",
    "def get_unique_values(arr:np.ndarray):\n",
    "    arr = arr.reshape(-1)\n",
    "    items_and_occurrences = {}\n",
    "\n",
    "    for item in arr:\n",
    "        if item not in items_and_occurrences.keys():\n",
    "            items_and_occurrences.update({item: 1})\n",
    "        else:\n",
    "            items_and_occurrences[item] += 1\n",
    "\n",
    "    return [el for el in items_and_occurrences.keys() if items_and_occurrences[el] == 1]"
   ],
   "metadata": {
    "collapsed": false,
    "ExecuteTime": {
     "end_time": "2023-09-12T08:00:41.103246368Z",
     "start_time": "2023-09-12T08:00:41.096886943Z"
    }
   },
   "id": "148b6aa763cfd149"
  },
  {
   "cell_type": "code",
   "execution_count": 5,
   "outputs": [
    {
     "data": {
      "text/plain": "[95, 24, 14, 56, 44, 16]"
     },
     "execution_count": 5,
     "metadata": {},
     "output_type": "execute_result"
    }
   ],
   "source": [
    "np_arr = np.array([[78, 67, 95, 24], [78, 14, 78, 56], [44, 16, 78, 67]])\n",
    "get_unique_values(np_arr)"
   ],
   "metadata": {
    "collapsed": false,
    "ExecuteTime": {
     "end_time": "2023-09-12T08:00:41.330616185Z",
     "start_time": "2023-09-12T08:00:41.298995450Z"
    }
   },
   "id": "5c815f763361c8f1"
  },
  {
   "cell_type": "markdown",
   "source": [
    "3. Find value of derivative of a function of 1 variable in given point. The function can be only polynomial and is given by string. For example func('3x^2+4x+4', 3) == 22 (for your ease - lets limit coefficients to be only integers)\n"
   ],
   "metadata": {
    "collapsed": false
   },
   "id": "cfc5ec6fab1de89f"
  },
  {
   "cell_type": "code",
   "execution_count": 6,
   "outputs": [],
   "source": [
    "def derivative_of_polynomial(polynomial:str, point:int):\n",
    "    polynomial = polynomial.split()\n",
    "    polynomial = \"\".join(polynomial)\n",
    "    polynomial = polynomial.split(\"-\")\n",
    "    # the first element is either an empty list or a polynomial item with plus sign\n",
    "    polynomial = [\"-\" + item if not item == polynomial[0] else item for item in polynomial if item]\n",
    "\n",
    "    i = 0\n",
    "    while True:\n",
    "        len_polynomial = len(polynomial)\n",
    "\n",
    "        polynomial[i:i+1] = polynomial[i].split(\"+\")\n",
    "        i += len(polynomial) - len_polynomial + 1\n",
    "\n",
    "        if i == len(polynomial):\n",
    "            break\n",
    "\n",
    "    result = 0\n",
    "    for item in polynomial:\n",
    "        coef_degree = item.split(\"x^\")\n",
    "        if len(coef_degree) == 1:\n",
    "            coef_degree = item.split(\"x\")\n",
    "\n",
    "        if len(coef_degree) != 2:\n",
    "            continue\n",
    "\n",
    "        coef_degree = [int(val) if val else 1 for val in coef_degree]\n",
    "        result += coef_degree[0] * coef_degree[1] * pow(point, coef_degree[1] - 1)\n",
    "\n",
    "    return result\n"
   ],
   "metadata": {
    "collapsed": false,
    "ExecuteTime": {
     "end_time": "2023-09-12T08:00:44.567797782Z",
     "start_time": "2023-09-12T08:00:44.564667395Z"
    }
   },
   "id": "54296646eb24d697"
  },
  {
   "cell_type": "code",
   "execution_count": 7,
   "outputs": [
    {
     "data": {
      "text/plain": "22"
     },
     "execution_count": 7,
     "metadata": {},
     "output_type": "execute_result"
    }
   ],
   "source": [
    "# function = '-3x^2+4x-4 + 2x + 5'\n",
    "function = '3x^2+4x+4'\n",
    "derivative_of_polynomial(function, 3)"
   ],
   "metadata": {
    "collapsed": false,
    "ExecuteTime": {
     "end_time": "2023-09-12T08:00:45.275186768Z",
     "start_time": "2023-09-12T08:00:45.270897834Z"
    }
   },
   "id": "e40f8063fbb4d12a"
  },
  {
   "cell_type": "markdown",
   "source": [
    "4. From which known distribution is np.random.rand() ? Get 2 different arrays generated from that distribution and get their difference. What should the mean of that difference be, if we get a bigger sample size? Think about this answer before calculating it with code."
   ],
   "metadata": {
    "collapsed": false
   },
   "id": "9af0d8dab7facd94"
  },
  {
   "cell_type": "markdown",
   "source": [
    "### np.random.rand() is from a Uniform[0,1) distribution\n",
    "### E[X - Y] = E[X] - E[Y] = 1/2 - 1/2 = 0\n",
    "### Both $\\{a_k\\}_1^n, \\{a_k\\}_1^n$ sequences approach the interval over [0, 1)\n",
    "\n",
    "### $\\sum_{n=1}^{\\infty} \\frac {a_n - b_n}{n} = 0$\n",
    "\n",
    "### So on  a bigger sample it approaches to zero."
   ],
   "metadata": {
    "collapsed": false
   },
   "id": "63534c59ca54fa7d"
  },
  {
   "cell_type": "code",
   "execution_count": 8,
   "outputs": [
    {
     "data": {
      "text/plain": "-0.00027968146891942217"
     },
     "execution_count": 8,
     "metadata": {},
     "output_type": "execute_result"
    }
   ],
   "source": [
    "size = 10000000\n",
    "X = np.random.rand(size)\n",
    "Y = np.random.rand(size)\n",
    "np.mean(X - Y)"
   ],
   "metadata": {
    "collapsed": false,
    "ExecuteTime": {
     "end_time": "2023-09-12T08:00:50.262555141Z",
     "start_time": "2023-09-12T08:00:50.139423648Z"
    }
   },
   "id": "38441fe76fa50e8b"
  },
  {
   "cell_type": "markdown",
   "source": [
    "5. Replace random values (~10 % of values) of car data.csv with np.nan; Then fill that nan values with most common values of the column for categorical columns and with mean values from numerical columns.\n"
   ],
   "metadata": {
    "collapsed": false
   },
   "id": "8be61d5574434588"
  },
  {
   "cell_type": "code",
   "execution_count": 12,
   "outputs": [],
   "source": [
    "df = pd.read_csv(\"car data.csv\")"
   ],
   "metadata": {
    "collapsed": false,
    "ExecuteTime": {
     "end_time": "2023-09-12T08:01:01.566855869Z",
     "start_time": "2023-09-12T08:01:01.560111525Z"
    }
   },
   "id": "14b2fafd42658c5f"
  },
  {
   "cell_type": "code",
   "execution_count": 18,
   "outputs": [
    {
     "data": {
      "text/plain": "              Year  Selling_Price  Present_Price     Kms_Driven       Owner\ncount   301.000000     301.000000     301.000000     301.000000  301.000000\nmean   2013.627907       4.661296       7.628472   36947.205980    0.043189\nstd       2.891554       5.082812       8.644115   38886.883882    0.247915\nmin    2003.000000       0.100000       0.320000     500.000000    0.000000\n25%    2012.000000       0.900000       1.200000   15000.000000    0.000000\n50%    2014.000000       3.600000       6.400000   32000.000000    0.000000\n75%    2016.000000       6.000000       9.900000   48767.000000    0.000000\nmax    2018.000000      35.000000      92.600000  500000.000000    3.000000",
      "text/html": "<div>\n<style scoped>\n    .dataframe tbody tr th:only-of-type {\n        vertical-align: middle;\n    }\n\n    .dataframe tbody tr th {\n        vertical-align: top;\n    }\n\n    .dataframe thead th {\n        text-align: right;\n    }\n</style>\n<table border=\"1\" class=\"dataframe\">\n  <thead>\n    <tr style=\"text-align: right;\">\n      <th></th>\n      <th>Year</th>\n      <th>Selling_Price</th>\n      <th>Present_Price</th>\n      <th>Kms_Driven</th>\n      <th>Owner</th>\n    </tr>\n  </thead>\n  <tbody>\n    <tr>\n      <th>count</th>\n      <td>301.000000</td>\n      <td>301.000000</td>\n      <td>301.000000</td>\n      <td>301.000000</td>\n      <td>301.000000</td>\n    </tr>\n    <tr>\n      <th>mean</th>\n      <td>2013.627907</td>\n      <td>4.661296</td>\n      <td>7.628472</td>\n      <td>36947.205980</td>\n      <td>0.043189</td>\n    </tr>\n    <tr>\n      <th>std</th>\n      <td>2.891554</td>\n      <td>5.082812</td>\n      <td>8.644115</td>\n      <td>38886.883882</td>\n      <td>0.247915</td>\n    </tr>\n    <tr>\n      <th>min</th>\n      <td>2003.000000</td>\n      <td>0.100000</td>\n      <td>0.320000</td>\n      <td>500.000000</td>\n      <td>0.000000</td>\n    </tr>\n    <tr>\n      <th>25%</th>\n      <td>2012.000000</td>\n      <td>0.900000</td>\n      <td>1.200000</td>\n      <td>15000.000000</td>\n      <td>0.000000</td>\n    </tr>\n    <tr>\n      <th>50%</th>\n      <td>2014.000000</td>\n      <td>3.600000</td>\n      <td>6.400000</td>\n      <td>32000.000000</td>\n      <td>0.000000</td>\n    </tr>\n    <tr>\n      <th>75%</th>\n      <td>2016.000000</td>\n      <td>6.000000</td>\n      <td>9.900000</td>\n      <td>48767.000000</td>\n      <td>0.000000</td>\n    </tr>\n    <tr>\n      <th>max</th>\n      <td>2018.000000</td>\n      <td>35.000000</td>\n      <td>92.600000</td>\n      <td>500000.000000</td>\n      <td>3.000000</td>\n    </tr>\n  </tbody>\n</table>\n</div>"
     },
     "execution_count": 18,
     "metadata": {},
     "output_type": "execute_result"
    }
   ],
   "source": [
    "df.describe()"
   ],
   "metadata": {
    "collapsed": false,
    "ExecuteTime": {
     "end_time": "2023-09-12T08:04:02.942978037Z",
     "start_time": "2023-09-12T08:04:02.918292736Z"
    }
   },
   "id": "c92bdf1555a390aa"
  },
  {
   "cell_type": "code",
   "execution_count": 19,
   "outputs": [],
   "source": [
    "max_iter = df.shape[0] * df.shape[1] // 10 + 1\n",
    "random_rows = np.random.choice(df.shape[0], max_iter)\n",
    "random_columns = np.random.choice(df.shape[1], max_iter)\n",
    "\n",
    "for i in range(max_iter):\n",
    "    df.loc[random_rows[i], df.columns[random_columns[i]]] = np.nan"
   ],
   "metadata": {
    "collapsed": false,
    "ExecuteTime": {
     "end_time": "2023-09-12T08:04:12.660456261Z",
     "start_time": "2023-09-12T08:04:12.618204766Z"
    }
   },
   "id": "53e3aeaef1c8f7c2"
  },
  {
   "cell_type": "code",
   "execution_count": 20,
   "outputs": [],
   "source": [
    "for i in range(len(df.dtypes)):\n",
    "    if df.dtypes[i] != object:\n",
    "        df[df.columns[i]].replace({np.nan: df[df.columns[i]].mean()}, inplace=True)\n",
    "    else:\n",
    "        df[df.columns[i]].replace({np.nan: df[df.columns[i]].mode()[0]}, inplace=True)"
   ],
   "metadata": {
    "collapsed": false,
    "ExecuteTime": {
     "end_time": "2023-09-12T08:04:14.330974023Z",
     "start_time": "2023-09-12T08:04:14.325408170Z"
    }
   },
   "id": "547e249e699ba58c"
  },
  {
   "cell_type": "code",
   "execution_count": 21,
   "outputs": [
    {
     "data": {
      "text/plain": "    Car_Name    Year  Selling_Price  Present_Price    Kms_Driven Fuel_Type  \\\n0       ritz  2014.0       3.350000           5.59  27000.000000    Petrol   \n1        sx4  2013.0       4.750000           9.54  43000.000000    Diesel   \n2       ciaz  2017.0       7.250000           9.85   6900.000000    Petrol   \n3    wagon r  2011.0       2.850000           4.15  35802.118959    Petrol   \n4      swift  2014.0       4.600000           6.87  42450.000000    Diesel   \n..       ...     ...            ...            ...           ...       ...   \n296     city  2016.0       4.515985          11.60  33988.000000    Diesel   \n297     brio  2015.0       4.000000           5.90  60000.000000    Petrol   \n298     city  2009.0       3.350000          11.00  87934.000000    Petrol   \n299     city  2017.0      11.500000          12.50   9000.000000    Diesel   \n300     brio  2016.0       5.300000           5.90   5464.000000    Petrol   \n\n    Seller_Type Transmission     Owner  \n0        Dealer       Manual  0.000000  \n1        Dealer       Manual  0.000000  \n2        Dealer       Manual  0.044444  \n3        Dealer       Manual  0.000000  \n4        Dealer       Manual  0.044444  \n..          ...          ...       ...  \n296      Dealer       Manual  0.000000  \n297      Dealer       Manual  0.000000  \n298      Dealer       Manual  0.000000  \n299      Dealer       Manual  0.000000  \n300      Dealer       Manual  0.000000  \n\n[301 rows x 9 columns]",
      "text/html": "<div>\n<style scoped>\n    .dataframe tbody tr th:only-of-type {\n        vertical-align: middle;\n    }\n\n    .dataframe tbody tr th {\n        vertical-align: top;\n    }\n\n    .dataframe thead th {\n        text-align: right;\n    }\n</style>\n<table border=\"1\" class=\"dataframe\">\n  <thead>\n    <tr style=\"text-align: right;\">\n      <th></th>\n      <th>Car_Name</th>\n      <th>Year</th>\n      <th>Selling_Price</th>\n      <th>Present_Price</th>\n      <th>Kms_Driven</th>\n      <th>Fuel_Type</th>\n      <th>Seller_Type</th>\n      <th>Transmission</th>\n      <th>Owner</th>\n    </tr>\n  </thead>\n  <tbody>\n    <tr>\n      <th>0</th>\n      <td>ritz</td>\n      <td>2014.0</td>\n      <td>3.350000</td>\n      <td>5.59</td>\n      <td>27000.000000</td>\n      <td>Petrol</td>\n      <td>Dealer</td>\n      <td>Manual</td>\n      <td>0.000000</td>\n    </tr>\n    <tr>\n      <th>1</th>\n      <td>sx4</td>\n      <td>2013.0</td>\n      <td>4.750000</td>\n      <td>9.54</td>\n      <td>43000.000000</td>\n      <td>Diesel</td>\n      <td>Dealer</td>\n      <td>Manual</td>\n      <td>0.000000</td>\n    </tr>\n    <tr>\n      <th>2</th>\n      <td>ciaz</td>\n      <td>2017.0</td>\n      <td>7.250000</td>\n      <td>9.85</td>\n      <td>6900.000000</td>\n      <td>Petrol</td>\n      <td>Dealer</td>\n      <td>Manual</td>\n      <td>0.044444</td>\n    </tr>\n    <tr>\n      <th>3</th>\n      <td>wagon r</td>\n      <td>2011.0</td>\n      <td>2.850000</td>\n      <td>4.15</td>\n      <td>35802.118959</td>\n      <td>Petrol</td>\n      <td>Dealer</td>\n      <td>Manual</td>\n      <td>0.000000</td>\n    </tr>\n    <tr>\n      <th>4</th>\n      <td>swift</td>\n      <td>2014.0</td>\n      <td>4.600000</td>\n      <td>6.87</td>\n      <td>42450.000000</td>\n      <td>Diesel</td>\n      <td>Dealer</td>\n      <td>Manual</td>\n      <td>0.044444</td>\n    </tr>\n    <tr>\n      <th>...</th>\n      <td>...</td>\n      <td>...</td>\n      <td>...</td>\n      <td>...</td>\n      <td>...</td>\n      <td>...</td>\n      <td>...</td>\n      <td>...</td>\n      <td>...</td>\n    </tr>\n    <tr>\n      <th>296</th>\n      <td>city</td>\n      <td>2016.0</td>\n      <td>4.515985</td>\n      <td>11.60</td>\n      <td>33988.000000</td>\n      <td>Diesel</td>\n      <td>Dealer</td>\n      <td>Manual</td>\n      <td>0.000000</td>\n    </tr>\n    <tr>\n      <th>297</th>\n      <td>brio</td>\n      <td>2015.0</td>\n      <td>4.000000</td>\n      <td>5.90</td>\n      <td>60000.000000</td>\n      <td>Petrol</td>\n      <td>Dealer</td>\n      <td>Manual</td>\n      <td>0.000000</td>\n    </tr>\n    <tr>\n      <th>298</th>\n      <td>city</td>\n      <td>2009.0</td>\n      <td>3.350000</td>\n      <td>11.00</td>\n      <td>87934.000000</td>\n      <td>Petrol</td>\n      <td>Dealer</td>\n      <td>Manual</td>\n      <td>0.000000</td>\n    </tr>\n    <tr>\n      <th>299</th>\n      <td>city</td>\n      <td>2017.0</td>\n      <td>11.500000</td>\n      <td>12.50</td>\n      <td>9000.000000</td>\n      <td>Diesel</td>\n      <td>Dealer</td>\n      <td>Manual</td>\n      <td>0.000000</td>\n    </tr>\n    <tr>\n      <th>300</th>\n      <td>brio</td>\n      <td>2016.0</td>\n      <td>5.300000</td>\n      <td>5.90</td>\n      <td>5464.000000</td>\n      <td>Petrol</td>\n      <td>Dealer</td>\n      <td>Manual</td>\n      <td>0.000000</td>\n    </tr>\n  </tbody>\n</table>\n<p>301 rows × 9 columns</p>\n</div>"
     },
     "execution_count": 21,
     "metadata": {},
     "output_type": "execute_result"
    }
   ],
   "source": [
    "df"
   ],
   "metadata": {
    "collapsed": false,
    "ExecuteTime": {
     "end_time": "2023-09-12T08:04:16.224239441Z",
     "start_time": "2023-09-12T08:04:16.192930321Z"
    }
   },
   "id": "f2db3c29f701473c"
  },
  {
   "cell_type": "markdown",
   "source": [
    "6. Plot graphics of functions x^2 and sin(x) in the same figure. Make one of them regular plot and the other one with dashed lines."
   ],
   "metadata": {
    "collapsed": false
   },
   "id": "80ef5041c89f047a"
  },
  {
   "cell_type": "code",
   "execution_count": null,
   "outputs": [],
   "source": [
    "fig, ax = plt.subplots(figsize=(10, 10))\n",
    "\n",
    "x = np.arange(-10, 11) / 2\n",
    "x_square = x ** 2\n",
    "sin_x = np.sin(x)\n",
    "\n",
    "ax.plot(x, x_square, \"--\")\n",
    "ax.plot(x, sin_x)\n",
    "\n",
    "ax.set_title(label=\"Figures of $x^2$ and $\\sinx$\")"
   ],
   "metadata": {
    "collapsed": false
   },
   "id": "e4f8cda22a70c68d"
  },
  {
   "cell_type": "markdown",
   "source": [
    "7. Scatter plot data points from car data.csv using selling price and present price as data point coordinates. Differentiate the points by colors, each color corresponds to a unique fuel type (e.g., all Petrols are blue and all Diesels are red). Add a legend for each color."
   ],
   "metadata": {
    "collapsed": false
   },
   "id": "8b918e20e3e17071"
  },
  {
   "cell_type": "code",
   "execution_count": 24,
   "outputs": [
    {
     "data": {
      "text/plain": "array(['Petrol', 'Diesel', 'CNG'], dtype=object)"
     },
     "execution_count": 24,
     "metadata": {},
     "output_type": "execute_result"
    }
   ],
   "source": [
    "df.Fuel_Type.unique()"
   ],
   "metadata": {
    "collapsed": false,
    "ExecuteTime": {
     "end_time": "2023-09-12T08:06:20.485603604Z",
     "start_time": "2023-09-12T08:06:20.442258942Z"
    }
   },
   "id": "e67fcd47010c08c4"
  },
  {
   "cell_type": "code",
   "execution_count": 23,
   "outputs": [
    {
     "data": {
      "text/plain": "<matplotlib.legend.Legend at 0x7fcc8a0661c0>"
     },
     "execution_count": 23,
     "metadata": {},
     "output_type": "execute_result"
    },
    {
     "data": {
      "text/plain": "<Figure size 1000x1000 with 1 Axes>",
      "image/png": "[encoded data removed]"
     },
     "metadata": {},
     "output_type": "display_data"
    }
   ],
   "source": [
    "df = pd.read_csv(\"car data.csv\")\n",
    "\n",
    "uniques = df.Fuel_Type.unique()\n",
    "colors = df.Fuel_Type.copy()\n",
    "\n",
    "for index, u in enumerate(uniques):\n",
    "    colors.replace({u: index}, inplace=True)\n",
    "\n",
    "plt.figure(figsize=(10,10))\n",
    "scatter = plt.scatter(df.Selling_Price, df.Present_Price, c=colors)\n",
    "plt.legend(*scatter.legend_elements(), loc=\"upper left\")"
   ],
   "metadata": {
    "collapsed": false,
    "ExecuteTime": {
     "end_time": "2023-09-12T08:06:04.040473254Z",
     "start_time": "2023-09-12T08:06:03.887639492Z"
    }
   },
   "id": "b64a9b4d7ab43583"
  },
  {
   "cell_type": "code",
   "execution_count": null,
   "outputs": [],
   "source": [],
   "metadata": {
    "collapsed": false
   },
   "id": "bcb511cc087845aa"
  }
 ],
 "metadata": {
  "kernelspec": {
   "display_name": "Python 3 (ipykernel)",
   "language": "python",
   "name": "python3"
  },
  "language_info": {
   "codemirror_mode": {
    "name": "ipython",
    "version": 3
   },
   "file_extension": ".py",
   "mimetype": "text/x-python",
   "name": "python",
   "nbconvert_exporter": "python",
   "pygments_lexer": "ipython3",
   "version": "3.9.12"
  }
 },
 "nbformat": 4,
 "nbformat_minor": 5
}
